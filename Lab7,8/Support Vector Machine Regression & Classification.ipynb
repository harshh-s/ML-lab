{
 "cells": [
  {
   "cell_type": "markdown",
   "metadata": {},
   "source": [
    "<font face=\"Georgia\" size=3>\n",
    "    \n",
    "Harsh Seksaria\n",
    "    \n",
    "2048011\n",
    "\n",
    "2 - MDS\n",
    "\n",
    "---\n",
    "\n",
    "Machine Learning Lab - 7 and 8\n",
    "    \n",
    "    Support Vector Machine Regression & Classification\n",
    "    \n",
    "    25 March 2021\n",
    "    \n",
    "---\n",
    "\n",
    "CHRIST (Deemed to be University)\n",
    "    \n",
    "</font>"
   ]
  },
  {
   "cell_type": "code",
   "execution_count": 1,
   "metadata": {},
   "outputs": [],
   "source": [
    "#Import statements\n",
    "import pandas as pd\n",
    "import numpy as np\n",
    "from sklearn.model_selection import train_test_split\n",
    "from sklearn.metrics import r2_score\n",
    "from sklearn.metrics import mean_squared_error"
   ]
  },
  {
   "cell_type": "markdown",
   "metadata": {},
   "source": [
    "# <font face=\"Georgia\">Reading dataset</font>"
   ]
  },
  {
   "cell_type": "code",
   "execution_count": 2,
   "metadata": {},
   "outputs": [],
   "source": [
    "# Read dataset in dataframe\n",
    "data = pd.read_csv(\"../diabetes.csv\")\n",
    "\n",
    "#Dividing dataset into x and y\n",
    "x = data.drop('Outcome', axis=1)\n",
    "y = data['Outcome']\n",
    "\n",
    "#Dividing dataset into training and testing set\n",
    "X_train, X_test, Y_train, Y_test = train_test_split(x, y, test_size=0.25, random_state=11)"
   ]
  },
  {
   "cell_type": "markdown",
   "metadata": {},
   "source": [
    "# <font face=\"Georgia\">SVM Regression</font>"
   ]
  },
  {
   "cell_type": "code",
   "execution_count": 4,
   "metadata": {},
   "outputs": [
    {
     "name": "stdout",
     "output_type": "stream",
     "text": [
      "R2 score:  0.21718928679514748\n",
      "Mean Squared Error:  0.1765910886233603\n"
     ]
    }
   ],
   "source": [
    "#Gaussian Kernel\n",
    "\n",
    "from sklearn.svm import SVR\n",
    "svrclassifier = SVR(kernel=\"rbf\")\n",
    "svrclassifier.fit(X_train, Y_train)\n",
    "\n",
    "#Prediction\n",
    "Y_pred_svr = svrclassifier.predict(X_test)\n",
    "\n",
    "from sklearn.metrics import r2_score\n",
    "print(\"R2 score: \", r2_score(Y_test, Y_pred_svr))\n",
    "\n",
    "from sklearn.metrics import mean_squared_error\n",
    "print(\"Mean Squared Error: \", mean_squared_error(Y_test, Y_pred_svr))"
   ]
  },
  {
   "cell_type": "code",
   "execution_count": 8,
   "metadata": {},
   "outputs": [
    {
     "name": "stdout",
     "output_type": "stream",
     "text": [
      "R2 score:  0.24060830364949182\n",
      "Mean Squared Error:  0.17130808775094472\n"
     ]
    }
   ],
   "source": [
    "#Linear Kernel\n",
    "\n",
    "from sklearn.svm import SVR\n",
    "svrclassifier = SVR(kernel=\"linear\")\n",
    "svrclassifier.fit(X_train, Y_train)\n",
    "\n",
    "#Prediction\n",
    "Y_pred_svr = svrclassifier.predict(X_test)\n",
    "\n",
    "from sklearn.metrics import r2_score\n",
    "print(\"R2 score: \", r2_score(Y_test, Y_pred_svr))\n",
    "\n",
    "from sklearn.metrics import mean_squared_error\n",
    "print(\"Mean Squared Error: \", mean_squared_error(Y_test, Y_pred_svr))"
   ]
  },
  {
   "cell_type": "code",
   "execution_count": 9,
   "metadata": {},
   "outputs": [
    {
     "name": "stdout",
     "output_type": "stream",
     "text": [
      "R2 score:  -6214.2287841745765\n",
      "Mean Squared Error:  1402.068212055007\n"
     ]
    }
   ],
   "source": [
    "#Polynomial Kernel\n",
    "\n",
    "from sklearn.svm import SVR\n",
    "svrclassifier = SVR(kernel=\"poly\", degree=8)\n",
    "svrclassifier.fit(X_train, Y_train)\n",
    "\n",
    "#Prediction\n",
    "Y_pred_svr = svrclassifier.predict(X_test)\n",
    "\n",
    "from sklearn.metrics import r2_score\n",
    "print(\"R2 score: \", r2_score(Y_test, Y_pred_svr))\n",
    "\n",
    "from sklearn.metrics import mean_squared_error\n",
    "print(\"Mean Squared Error: \", mean_squared_error(Y_test, Y_pred_svr))"
   ]
  },
  {
   "cell_type": "code",
   "execution_count": 10,
   "metadata": {},
   "outputs": [
    {
     "name": "stdout",
     "output_type": "stream",
     "text": [
      "R2 score:  -153.5318515223614\n",
      "Mean Squared Error:  34.8602125992827\n"
     ]
    }
   ],
   "source": [
    "#Sigmoid Kernel\n",
    "\n",
    "from sklearn.svm import SVR\n",
    "svrclassifier = SVR(kernel=\"sigmoid\", degree=8)\n",
    "svrclassifier.fit(X_train, Y_train)\n",
    "\n",
    "#Prediction\n",
    "Y_pred_svr = svrclassifier.predict(X_test)\n",
    "\n",
    "from sklearn.metrics import r2_score\n",
    "print(\"R2 score: \", r2_score(Y_test, Y_pred_svr))\n",
    "\n",
    "from sklearn.metrics import mean_squared_error\n",
    "print(\"Mean Squared Error: \", mean_squared_error(Y_test, Y_pred_svr))"
   ]
  },
  {
   "cell_type": "markdown",
   "metadata": {},
   "source": [
    "# <font face=\"Georgia\">SVM Classification</font>"
   ]
  },
  {
   "cell_type": "code",
   "execution_count": 13,
   "metadata": {},
   "outputs": [
    {
     "name": "stdout",
     "output_type": "stream",
     "text": [
      "CLASSIFICATION REPORT:\n",
      "\n",
      "               precision    recall  f1-score   support\n",
      "\n",
      "           0       0.74      0.92      0.82       126\n",
      "           1       0.71      0.38      0.50        66\n",
      "\n",
      "    accuracy                           0.73       192\n",
      "   macro avg       0.73      0.65      0.66       192\n",
      "weighted avg       0.73      0.73      0.71       192\n",
      "\n",
      "\n",
      "CONFUSION MATRIX:\n",
      "\n",
      " [[116  10]\n",
      " [ 41  25]]\n"
     ]
    }
   ],
   "source": [
    "#Gaussian Kernel\n",
    "\n",
    "from sklearn.svm import SVC\n",
    "svcclassifier = SVC(kernel=\"rbf\")\n",
    "svcclassifier.fit(X_train, Y_train)\n",
    "\n",
    "#Prediction\n",
    "Y_pred_svm = svcclassifier.predict(X_test)\n",
    "\n",
    "#Printing the predictions\n",
    "Y_pred_svm\n",
    "\n",
    "#Evaluation\n",
    "from sklearn.metrics import classification_report, confusion_matrix\n",
    "print(\"CLASSIFICATION REPORT:\\n\\n\", classification_report(Y_test, Y_pred_svm))\n",
    "print(\"\\nCONFUSION MATRIX:\\n\\n\", confusion_matrix(Y_test, Y_pred_svm))"
   ]
  },
  {
   "cell_type": "code",
   "execution_count": 14,
   "metadata": {},
   "outputs": [
    {
     "name": "stdout",
     "output_type": "stream",
     "text": [
      "CLASSIFICATION REPORT:\n",
      "\n",
      "               precision    recall  f1-score   support\n",
      "\n",
      "           0       0.72      0.97      0.83       126\n",
      "           1       0.83      0.29      0.43        66\n",
      "\n",
      "    accuracy                           0.73       192\n",
      "   macro avg       0.77      0.63      0.63       192\n",
      "weighted avg       0.76      0.73      0.69       192\n",
      "\n",
      "\n",
      "CONFUSION MATRIX:\n",
      "\n",
      " [[122   4]\n",
      " [ 47  19]]\n"
     ]
    }
   ],
   "source": [
    "#Polynomial Kernel\n",
    "\n",
    "from sklearn.svm import SVC\n",
    "svcclassifier = SVC(kernel=\"poly\", degree=8)\n",
    "svcclassifier.fit(X_train, Y_train)\n",
    "\n",
    "#Prediction\n",
    "Y_pred_svm = svcclassifier.predict(X_test)\n",
    "\n",
    "#Printing the predictions\n",
    "Y_pred_svm\n",
    "\n",
    "#Evaluation\n",
    "from sklearn.metrics import classification_report, confusion_matrix\n",
    "print(\"CLASSIFICATION REPORT:\\n\\n\", classification_report(Y_test, Y_pred_svm))\n",
    "print(\"\\nCONFUSION MATRIX:\\n\\n\", confusion_matrix(Y_test, Y_pred_svm))"
   ]
  },
  {
   "cell_type": "code",
   "execution_count": 15,
   "metadata": {},
   "outputs": [
    {
     "name": "stdout",
     "output_type": "stream",
     "text": [
      "CLASSIFICATION REPORT:\n",
      "\n",
      "               precision    recall  f1-score   support\n",
      "\n",
      "           0       0.60      0.72      0.65       126\n",
      "           1       0.12      0.08      0.09        66\n",
      "\n",
      "    accuracy                           0.50       192\n",
      "   macro avg       0.36      0.40      0.37       192\n",
      "weighted avg       0.44      0.50      0.46       192\n",
      "\n",
      "\n",
      "CONFUSION MATRIX:\n",
      "\n",
      " [[91 35]\n",
      " [61  5]]\n"
     ]
    }
   ],
   "source": [
    "#Sigmoid Kernel\n",
    "\n",
    "from sklearn.svm import SVC\n",
    "svcclassifier = SVC(kernel=\"sigmoid\")\n",
    "svcclassifier.fit(X_train, Y_train)\n",
    "\n",
    "#Prediction\n",
    "Y_pred_svm = svcclassifier.predict(X_test)\n",
    "\n",
    "#Printing the predictions\n",
    "Y_pred_svm\n",
    "\n",
    "#Evaluation\n",
    "from sklearn.metrics import classification_report, confusion_matrix\n",
    "print(\"CLASSIFICATION REPORT:\\n\\n\", classification_report(Y_test, Y_pred_svm))\n",
    "print(\"\\nCONFUSION MATRIX:\\n\\n\", confusion_matrix(Y_test, Y_pred_svm))"
   ]
  }
 ],
 "metadata": {
  "kernelspec": {
   "display_name": "Python 3",
   "language": "python",
   "name": "python3"
  },
  "language_info": {
   "codemirror_mode": {
    "name": "ipython",
    "version": 3
   },
   "file_extension": ".py",
   "mimetype": "text/x-python",
   "name": "python",
   "nbconvert_exporter": "python",
   "pygments_lexer": "ipython3",
   "version": "3.8.5"
  }
 },
 "nbformat": 4,
 "nbformat_minor": 4
}
