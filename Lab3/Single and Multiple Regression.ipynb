{
 "cells": [
  {
   "cell_type": "markdown",
   "metadata": {},
   "source": [
    "*Harsh Seksaria*\n",
    "\n",
    "*2048011*\n",
    "\n",
    "*1-MDS*\n",
    "\n",
    "*05-02-2021*\n",
    "\n",
    "*Single and Multiple Linear Regression*"
   ]
  },
  {
   "cell_type": "code",
   "execution_count": 1,
   "metadata": {},
   "outputs": [],
   "source": [
    "#Importing libraries\n",
    "import pandas as pd\n",
    "import numpy as np\n",
    "import seaborn as sns\n",
    "import matplotlib.pyplot as plt"
   ]
  },
  {
   "cell_type": "code",
   "execution_count": 2,
   "metadata": {},
   "outputs": [
    {
     "data": {
      "text/html": [
       "<div>\n",
       "<style scoped>\n",
       "    .dataframe tbody tr th:only-of-type {\n",
       "        vertical-align: middle;\n",
       "    }\n",
       "\n",
       "    .dataframe tbody tr th {\n",
       "        vertical-align: top;\n",
       "    }\n",
       "\n",
       "    .dataframe thead th {\n",
       "        text-align: right;\n",
       "    }\n",
       "</style>\n",
       "<table border=\"1\" class=\"dataframe\">\n",
       "  <thead>\n",
       "    <tr style=\"text-align: right;\">\n",
       "      <th></th>\n",
       "      <th>Pregnancies</th>\n",
       "      <th>Glucose</th>\n",
       "      <th>BloodPressure</th>\n",
       "      <th>SkinThickness</th>\n",
       "      <th>Insulin</th>\n",
       "      <th>BMI</th>\n",
       "      <th>DiabetesPedigreeFunction</th>\n",
       "      <th>Age</th>\n",
       "      <th>Outcome</th>\n",
       "    </tr>\n",
       "  </thead>\n",
       "  <tbody>\n",
       "    <tr>\n",
       "      <th>177</th>\n",
       "      <td>0</td>\n",
       "      <td>129</td>\n",
       "      <td>110</td>\n",
       "      <td>46</td>\n",
       "      <td>130</td>\n",
       "      <td>67.1</td>\n",
       "      <td>0.319</td>\n",
       "      <td>26</td>\n",
       "      <td>1</td>\n",
       "    </tr>\n",
       "    <tr>\n",
       "      <th>488</th>\n",
       "      <td>4</td>\n",
       "      <td>99</td>\n",
       "      <td>72</td>\n",
       "      <td>17</td>\n",
       "      <td>0</td>\n",
       "      <td>25.6</td>\n",
       "      <td>0.294</td>\n",
       "      <td>28</td>\n",
       "      <td>0</td>\n",
       "    </tr>\n",
       "    <tr>\n",
       "      <th>733</th>\n",
       "      <td>2</td>\n",
       "      <td>106</td>\n",
       "      <td>56</td>\n",
       "      <td>27</td>\n",
       "      <td>165</td>\n",
       "      <td>29.0</td>\n",
       "      <td>0.426</td>\n",
       "      <td>22</td>\n",
       "      <td>0</td>\n",
       "    </tr>\n",
       "    <tr>\n",
       "      <th>539</th>\n",
       "      <td>3</td>\n",
       "      <td>129</td>\n",
       "      <td>92</td>\n",
       "      <td>49</td>\n",
       "      <td>155</td>\n",
       "      <td>36.4</td>\n",
       "      <td>0.968</td>\n",
       "      <td>32</td>\n",
       "      <td>1</td>\n",
       "    </tr>\n",
       "    <tr>\n",
       "      <th>700</th>\n",
       "      <td>2</td>\n",
       "      <td>122</td>\n",
       "      <td>76</td>\n",
       "      <td>27</td>\n",
       "      <td>200</td>\n",
       "      <td>35.9</td>\n",
       "      <td>0.483</td>\n",
       "      <td>26</td>\n",
       "      <td>0</td>\n",
       "    </tr>\n",
       "  </tbody>\n",
       "</table>\n",
       "</div>"
      ],
      "text/plain": [
       "     Pregnancies  Glucose  BloodPressure  SkinThickness  Insulin   BMI  \\\n",
       "177            0      129            110             46      130  67.1   \n",
       "488            4       99             72             17        0  25.6   \n",
       "733            2      106             56             27      165  29.0   \n",
       "539            3      129             92             49      155  36.4   \n",
       "700            2      122             76             27      200  35.9   \n",
       "\n",
       "     DiabetesPedigreeFunction  Age  Outcome  \n",
       "177                     0.319   26        1  \n",
       "488                     0.294   28        0  \n",
       "733                     0.426   22        0  \n",
       "539                     0.968   32        1  \n",
       "700                     0.483   26        0  "
      ]
     },
     "execution_count": 2,
     "metadata": {},
     "output_type": "execute_result"
    }
   ],
   "source": [
    "#Reading dataset\n",
    "fl = pd.read_csv('../diabetes.csv')\n",
    "fl.sample(5)"
   ]
  },
  {
   "cell_type": "markdown",
   "metadata": {},
   "source": [
    "# Regression Analysis\n",
    "<br>\n",
    "<font face=\"Georgia\">\n",
    "Regression Analysis is a supervised learning algorithm which is used to model the relationship between a predictor/independent variable and a target/dependent variable, and it helps in finding the correlation between variables and enables us to predict the continuous output variable based on the one or more predictor variables. It is mainly used for prediction, forecasting, time series modeling, and determining the causal-effect relationship between variables.\n",
    "    \n",
    "_Regression shows a line or curve that passes through all the datapoints on target-predictor graph in such a way that the vertical distance between the datapoints and the regression line is minimum._ The distance between datapoints and line tells whether a model has captured a strong relationship or not.\n",
    "</font>\n",
    "\n",
    "<u>**Important terms**</u>:\n",
    "\n",
    "**Dependent Variable** : The variable which is to be predicted is called Dependent Variable. Also called as Target Variable.\n",
    "\n",
    "**Independent Variable** : The variables which affect or are used to predict the dependent variable is called Independent Variable.\n",
    "\n",
    "**Outliers** : The values which is either very low or high as compared to other values is called an outlier.\n",
    "\n",
    "**Multicollinearity** : If the independent variables are highly correlated with each other than other variables, then such condition is called Multicollinearity. It should not be present in the dataset, because it creates problem while ranking the most affecting variable.\n",
    "\n",
    "**Underfitting & Overfitting** : If our algorithm works well with the training dataset but not well with test dataset, then such problem is called Overfitting. And if our algorithm does not perform well even with training dataset, then such problem is called underfitting.\n",
    "\n",
    "_There are different types of Regression such as Linear Regression, Logistic Regression, Lasso Regression, etc. Here, we mainly focus on Linear Regression._"
   ]
  },
  {
   "cell_type": "markdown",
   "metadata": {},
   "source": [
    "# 1. Simple Linear Regression\n",
    "\n",
    "When there is only one predictor/independent variable as input to predict the target, then such Linear Regression Algorithm is called Simple Linear Regression. It has only one _x_ and only one _y_ variable.\n",
    "\n",
    "The mathematical equation of Simple Linear Regression is:\n",
    "> _y = $\\beta$ 0 + $\\beta$ 1 x + e_\n",
    "\n",
    "For the dataset used in this project, I'm using **Insulin as a predictor** for Simple Linear Regression."
   ]
  },
  {
   "cell_type": "code",
   "execution_count": 3,
   "metadata": {},
   "outputs": [],
   "source": [
    "# Dividing the dataset into predictor and target\n",
    "x = fl[['Insulin']]\n",
    "y = fl['Glucose']\n",
    "\n",
    "#In the output below, we the first column is of indexes and second column is value."
   ]
  },
  {
   "cell_type": "code",
   "execution_count": 4,
   "metadata": {},
   "outputs": [],
   "source": [
    "#Splitting the dataset into training and testing\n",
    "from sklearn.model_selection import train_test_split\n",
    "X_train, X_test, Y_train, Y_test = train_test_split(x, y, test_size=0.2, random_state=11)"
   ]
  },
  {
   "cell_type": "code",
   "execution_count": 5,
   "metadata": {},
   "outputs": [
    {
     "data": {
      "text/plain": [
       "LinearRegression()"
      ]
     },
     "execution_count": 5,
     "metadata": {},
     "output_type": "execute_result"
    }
   ],
   "source": [
    "from sklearn.linear_model import LinearRegression\n",
    "reg = LinearRegression()\n",
    "reg.fit(X_train, Y_train)"
   ]
  },
  {
   "cell_type": "code",
   "execution_count": 6,
   "metadata": {},
   "outputs": [],
   "source": [
    "Y_pred = reg.predict(X_test)\n",
    "X_pred = reg.predict(X_train)"
   ]
  },
  {
   "cell_type": "code",
   "execution_count": 9,
   "metadata": {},
   "outputs": [
    {
     "data": {
      "image/png": "[encoded data removed]",
      "text/plain": [
       "<Figure size 432x288 with 1 Axes>"
      ]
     },
     "metadata": {
      "needs_background": "light"
     },
     "output_type": "display_data"
    }
   ],
   "source": [
    "#Scatter Plot for train set\n",
    "plt.scatter(X_train, Y_train, color=\"orange\")\n",
    "plt.plot(X_train, X_pred, color=\"blue\")\n",
    "plt.title(\"Insulin vs. Glucose (Training)\")\n",
    "plt.xlabel(\"Insulin\")\n",
    "plt.ylabel('Glucose')\n",
    "plt.show()"
   ]
  },
  {
   "cell_type": "code",
   "execution_count": 47,
   "metadata": {},
   "outputs": [
    {
     "data": {
      "image/png": "[encoded data removed]",
      "text/plain": [
       "<Figure size 432x288 with 1 Axes>"
      ]
     },
     "metadata": {
      "needs_background": "light"
     },
     "output_type": "display_data"
    }
   ],
   "source": [
    "#Scatter Plot for train set\n",
    "plt.scatter(X_test, Y_test, color=\"brown\")\n",
    "plt.plot(X_train, X_pred, color=\"green\")\n",
    "plt.title(\"Insulin vs. Glucose (Training)\")\n",
    "plt.xlabel(\"Insulin\")\n",
    "plt.ylabel('Glucose')\n",
    "plt.show()"
   ]
  },
  {
   "cell_type": "markdown",
   "metadata": {},
   "source": [
    "# 2. Multiple Linear Regression\n",
    "\n",
    "There may be cases when target variable is being affected by more than one variable. In such a situation where we have more than one predictor/independent variable, we use Multiple Linear Regression Algorithm.\n",
    "\n",
    "It can also be said as an extension of Simple Linear Regression as it takes more than one predictor variable.\n",
    "\n",
    "The mathematical equation of Simple Linear Regression is:\n",
    "> _y = $\\beta$<sub>0</sub> + $\\beta$<sub>1</sub>X<sub>1</sub> + $\\beta$<sub>2</sub>X<sub>2</sub> + ... +  + $\\beta$<sub>n</sub>X<sub>n</sub> + e_"
   ]
  },
  {
   "cell_type": "code",
   "execution_count": 52,
   "metadata": {},
   "outputs": [],
   "source": [
    "y = fl['Outcome']\n",
    "x = fl.drop(['Outcome'], axis=1)"
   ]
  },
  {
   "cell_type": "code",
   "execution_count": 53,
   "metadata": {},
   "outputs": [],
   "source": [
    "X_train, X_test, Y_train, Y_test = train_test_split(x, y, test_size=0.2, random_state=11)"
   ]
  },
  {
   "cell_type": "code",
   "execution_count": 54,
   "metadata": {},
   "outputs": [
    {
     "data": {
      "text/plain": [
       "LinearRegression()"
      ]
     },
     "execution_count": 54,
     "metadata": {},
     "output_type": "execute_result"
    }
   ],
   "source": [
    "mulreg = LinearRegression()\n",
    "mulreg.fit(X_train, Y_train)"
   ]
  },
  {
   "cell_type": "code",
   "execution_count": 55,
   "metadata": {},
   "outputs": [
    {
     "data": {
      "text/plain": [
       "-0.8032984877579898"
      ]
     },
     "execution_count": 55,
     "metadata": {},
     "output_type": "execute_result"
    }
   ],
   "source": [
    "mulreg.intercept_"
   ]
  },
  {
   "cell_type": "code",
   "execution_count": 56,
   "metadata": {},
   "outputs": [
    {
     "data": {
      "text/plain": [
       "[('Pregnancies', 0.01975811889033599),\n",
       " ('Glucose', 0.006312970358743401),\n",
       " ('BloodPressure', -0.0026733849929980683),\n",
       " ('SkinThickness', -5.135769012273863e-05),\n",
       " ('Insulin', -0.00018009348329259926),\n",
       " ('BMI', 0.012097323660906734),\n",
       " ('DiabetesPedigreeFunction', 0.1222285012379883),\n",
       " ('Age', 0.001862077488733496)]"
      ]
     },
     "execution_count": 56,
     "metadata": {},
     "output_type": "execute_result"
    }
   ],
   "source": [
    "list(zip(x, mulreg.coef_))"
   ]
  },
  {
   "cell_type": "code",
   "execution_count": 57,
   "metadata": {},
   "outputs": [],
   "source": [
    "mlr_x_pred = mulreg.predict(X_train)\n",
    "mlr_y_pred = mulreg.predict(X_test)"
   ]
  },
  {
   "cell_type": "code",
   "execution_count": 60,
   "metadata": {},
   "outputs": [
    {
     "data": {
      "text/plain": [
       "30.11351107318084"
      ]
     },
     "execution_count": 60,
     "metadata": {},
     "output_type": "execute_result"
    }
   ],
   "source": [
    "mulreg.score(x, y)*100"
   ]
  },
  {
   "cell_type": "code",
   "execution_count": 62,
   "metadata": {},
   "outputs": [
    {
     "name": "stdout",
     "output_type": "stream",
     "text": [
      "Mean Absolute error : 0.3338354688675196\n",
      "Mean Square error : 0.16668765276364017\n",
      "Root Mean Square error : 0.40827399226945643\n"
     ]
    }
   ],
   "source": [
    "from sklearn import metrics\n",
    "print('Mean Absolute error :', metrics.mean_absolute_error(Y_test, mlr_y_pred))\n",
    "print('Mean Square error :', metrics.mean_squared_error(Y_test, mlr_y_pred))\n",
    "print('Root Mean Square error :', np.sqrt(metrics.mean_squared_error(Y_test, mlr_y_pred)))"
   ]
  }
 ],
 "metadata": {
  "kernelspec": {
   "display_name": "Python 3",
   "language": "python",
   "name": "python3"
  },
  "language_info": {
   "codemirror_mode": {
    "name": "ipython",
    "version": 3
   },
   "file_extension": ".py",
   "mimetype": "text/x-python",
   "name": "python",
   "nbconvert_exporter": "python",
   "pygments_lexer": "ipython3",
   "version": "3.8.5"
  }
 },
 "nbformat": 4,
 "nbformat_minor": 4
}
